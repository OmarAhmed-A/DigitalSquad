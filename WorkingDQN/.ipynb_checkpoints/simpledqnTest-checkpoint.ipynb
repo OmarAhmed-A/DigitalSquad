{
 "cells": [
  {
   "cell_type": "code",
   "execution_count": 5,
   "metadata": {},
   "outputs": [],
   "source": [
    "import torch as T\n",
    "import torch.nn as nn\n",
    "import torch.nn.functional as F\n",
    "import torch.optim as optim\n",
    "import numpy as np\n",
    "\n",
    "\n",
    "class DeepQNetwork(nn.Module):\n",
    "    def __init__(self, lr, input_dims, fc1_dims, fc2_dims, n_actions):\n",
    "        super(DeepQNetwork, self).__init__()\n",
    "        self.input_dims = input_dims\n",
    "        self.fc1_dims = fc1_dims\n",
    "        self.fc2_dims = fc2_dims\n",
    "        self.n_actions = n_actions\n",
    "        self.fc1 = nn.Linear(*self.input_dims, self.fc1_dims)\n",
    "        self.fc2 = nn.Linear(self.fc1_dims, self.fc2_dims)\n",
    "        self.fc3 = nn.Linear(self.fc2_dims, self.n_actions)\n",
    "\n",
    "        self.optimizer = optim.Adam(self.parameters(), lr=lr)\n",
    "        self.loss = nn.MSELoss()\n",
    "        self.device = T.device(\"cuda:0\" if T.cuda.is_available() else \"cpu\")\n",
    "        self.to(self.device)\n",
    "\n",
    "    def forward(self, state):\n",
    "        x = F.relu(self.fc1(state))\n",
    "        x = F.relu(self.fc2(x))\n",
    "        actions = self.fc3(x)\n",
    "\n",
    "        return actions\n",
    "\n",
    "\n",
    "class Agent:\n",
    "    def __init__(\n",
    "        self,\n",
    "        gamma,\n",
    "        epsilon,\n",
    "        lr,\n",
    "        input_dims,\n",
    "        batch_size,\n",
    "        n_actions,\n",
    "        max_mem_size=100000,\n",
    "        eps_end=0.05,\n",
    "        eps_dec=5e-6,\n",
    "    ):\n",
    "        self.gamma = gamma\n",
    "        self.epsilon = epsilon\n",
    "        self.eps_min = eps_end\n",
    "        self.eps_dec = eps_dec\n",
    "        self.lr = lr\n",
    "        self.action_space = [0, 1, 2, 3]  # ['N', 'S', 'E', 'W']\n",
    "        self.mem_size = max_mem_size\n",
    "        self.batch_size = batch_size\n",
    "        self.mem_cntr = 0\n",
    "        self.iter_cntr = 0\n",
    "        self.replace_target = 100\n",
    "\n",
    "        self.Q_eval = DeepQNetwork(\n",
    "            lr, n_actions=n_actions, input_dims=input_dims, fc1_dims=256, fc2_dims=256\n",
    "        )\n",
    "        self.state_memory = np.zeros(\n",
    "            (self.mem_size, *input_dims), dtype=np.float32\n",
    "        )  \n",
    "        self.new_state_memory = np.zeros((self.mem_size, *input_dims), dtype=np.float32)\n",
    "        self.action_memory = np.zeros(self.mem_size, dtype=np.float32)\n",
    "        self.reward_memory = np.zeros(self.mem_size, dtype=np.float32)\n",
    "        self.terminal_memory = np.zeros(self.mem_size, dtype=bool)\n",
    "\n",
    "    def store_transition(self, state, action, reward, state_, terminal):\n",
    "        index = self.mem_cntr % self.mem_size\n",
    "\n",
    "        arr = np.concatenate(\n",
    "            (np.array(state[0]), state[1], np.concatenate(state[2]),)\n",
    "            )\n",
    "        arr = np.pad(arr, (0, 14 - len(arr)), mode=\"constant\")\n",
    "\n",
    "        self.state_memory[index] = arr\n",
    "\n",
    "        arr = np.concatenate(\n",
    "            (np.array(state_[0]), state_[1], np.concatenate(state_[2]),)\n",
    "        )\n",
    "        arr = np.pad(arr, (0, 14 - len(arr)), mode=\"constant\")\n",
    "\n",
    "        self.new_state_memory[index] = arr\n",
    "        self.reward_memory[index] = reward\n",
    "        self.action_memory[index] = action\n",
    "        self.terminal_memory[index] = terminal\n",
    "\n",
    "        self.mem_cntr += 1\n",
    "\n",
    "    def choose_action(self, observation):\n",
    "        if np.random.random() > self.epsilon:\n",
    "            arr = np.concatenate(\n",
    "                (\n",
    "                    np.array(observation[0]),\n",
    "                    observation[1],\n",
    "                    np.concatenate(observation[2]),\n",
    "                )\n",
    "            )\n",
    "            arr = np.pad(arr, (0, 14 - len(arr)), mode=\"constant\")\n",
    "            state = T.tensor(np.array(arr), dtype=self.Q_eval.fc1.weight.dtype,).to(\n",
    "                self.Q_eval.device\n",
    "            )\n",
    "            actions = self.Q_eval.forward(state)\n",
    "            action = T.argmax(actions).item()\n",
    "        else:\n",
    "            action = np.random.choice(self.action_space)\n",
    "\n",
    "        return action\n",
    "\n",
    "    def learn(self):\n",
    "        if self.mem_cntr < self.batch_size:\n",
    "            return\n",
    "\n",
    "        self.Q_eval.optimizer.zero_grad()\n",
    "\n",
    "        max_mem = min(self.mem_cntr, self.mem_size)\n",
    "\n",
    "        batch = np.random.choice(max_mem, self.batch_size, replace=False)\n",
    "        batch_index = np.arange(self.batch_size, dtype=np.int32)\n",
    "\n",
    "        state_batch = T.tensor(self.state_memory[batch]).to(self.Q_eval.device)\n",
    "        new_state_batch = T.tensor(self.new_state_memory[batch]).to(self.Q_eval.device)\n",
    "        action_batch = self.action_memory[batch]\n",
    "        reward_batch = T.tensor(self.reward_memory[batch]).to(self.Q_eval.device)\n",
    "        terminal_batch = T.tensor(self.terminal_memory[batch]).to(self.Q_eval.device)\n",
    "\n",
    "        q_eval = self.Q_eval.forward(state_batch)[batch_index, action_batch]\n",
    "\n",
    "        q_next = self.Q_eval.forward(new_state_batch)\n",
    "        q_next[terminal_batch] = 0.0\n",
    "\n",
    "        q_target = reward_batch + self.gamma * T.max(q_next, dim=1)[0]\n",
    "\n",
    "        loss = self.Q_eval.loss(q_target, q_eval).to(self.Q_eval.device)\n",
    "        loss.backward()\n",
    "        self.Q_eval.optimizer.step()\n",
    "\n",
    "        self.iter_cntr += 1\n",
    "        self.epsilon = (\n",
    "            self.epsilon - self.eps_dec if self.epsilon > self.eps_min else self.eps_min\n",
    "        )\n",
    "\n"
   ]
  },
  {
   "cell_type": "code",
   "execution_count": 6,
   "metadata": {},
   "outputs": [],
   "source": [
    "import sys\n",
    "import numpy as np\n",
    "import math\n",
    "import random\n",
    "import json\n",
    "import requests\n",
    "import random\n",
    "import numpy as np\n",
    "import gym\n",
    "import time\n",
    "\n",
    "sys.path.append('c://Users/omara/Desktop/VSCODE/DigitalSquad/gym-maze/')\n",
    "import gym_maze\n",
    "from gym_maze.envs.maze_manager import MazeManager\n",
    "from riddle_solvers import *"
   ]
  },
  {
   "cell_type": "code",
   "execution_count": 8,
   "metadata": {},
   "outputs": [],
   "source": [
    "def manhattan_distance(start, end):\n",
    "    return abs(start[0] - end[0]) + abs(start[1] - end[1])\n",
    "\n",
    "def get_reward(obv,obv_,info, vis,cell_vis):\n",
    "    if obv[0][0] == obv_[0][0] and obv[0][1] == obv_[0][1]:\n",
    "        return -20000\n",
    "    #if in cell visted \n",
    "    elif obv[0] in cell_vis:\n",
    "        return -10000\n",
    "\n",
    "    elif obv[0][0] == 9 and obv[0][1] == 9:\n",
    "        return 1000000    \n",
    "    # {'rescued_items': 0, 'riddle_type': None, 'riddle_question': None}\n",
    "    elif info[riddle_type]  != None and info[riddle_type] not in vis:\n",
    "        return 1000\n",
    "    else:\n",
    "        return (0 - manhattan_distance(obv[0], np.array((9, 9))))\n"
   ]
  },
  {
   "cell_type": "code",
   "execution_count": 16,
   "metadata": {},
   "outputs": [
    {
     "name": "stdout",
     "output_type": "stream",
     "text": [
      "episode  0 score -41420000.00 average score -41420000.00 epsilon 0.99 num_steps 2071\n",
      "episode  1 score -49940000.00 average score -45680000.00 epsilon 0.98 num_steps 2497\n",
      "episode  2 score -24040000.00 average score -38466666.67 epsilon 0.97 num_steps 1202\n"
     ]
    }
   ],
   "source": [
    "sample_maze = np.load(\"sample_maze1.npy\")\n",
    "agent_id = \"9\" # add your agent id here\n",
    "    \n",
    "manager = MazeManager()\n",
    "manager.init_maze(agent_id, maze_cells=sample_maze)\n",
    "env = manager.maze_map[agent_id]\n",
    "\n",
    "riddle_solvers = {'cipher': cipher_solver, 'captcha': captcha_solver, 'pcap': pcap_solver, 'server': server_solver}\n",
    "maze = {}\n",
    "states = {}\n",
    "\n",
    "\n",
    "maze['maze'] = env.maze_view.maze.maze_cells.tolist()\n",
    "maze['rescue_items'] = list(manager.rescue_items_dict.keys())\n",
    "\n",
    "MAX_T = 5000\n",
    "RENDER_MAZE = True\n",
    "\n",
    "agent = Agent(gamma=0.99, epsilon=1.0, batch_size=64, n_actions=4, eps_end=0.001,\n",
    "                input_dims=[14,], lr=0.001)\n",
    "scores, eps_history = [], []\n",
    "n_games = 500\n",
    "timeout = 300\n",
    "for i in range(n_games):\n",
    "    score = 0\n",
    "    done = False\n",
    "    observation = env.reset()\n",
    "    manager.render(agent_id)\n",
    "    num_steps = 0\n",
    "    start_time = time.time()\n",
    "    visited = set(())\n",
    "    cell_visited = set(())\n",
    "\n",
    "    \n",
    "    passed_time = 0\n",
    "    while not done and passed_time < timeout:\n",
    "        passed_time = time.time() - start_time\n",
    "        action = agent.choose_action(observation)\n",
    "        mapping = ['N', 'S', 'E', 'W']\n",
    "\n",
    "        actionChar = mapping[action]\n",
    "\n",
    "        observation_, _, done,_, info = manager.step(agent_id, actionChar)\n",
    "        # print(info)\n",
    "        if info['riddle_type']  != None:\n",
    "            # riddle_solver = riddle_solvers[info['riddle_type']]\n",
    "            # answer = riddle_solvers(info['riddle_question'])\n",
    "            # manager.answer_riddle(agent_id, answer)\n",
    "            visited.add(info['riddle_type'])\n",
    "\n",
    "        cell_visited.add((observation_[0][0], observation_[0][1]))\n",
    "        manager.render(agent_id)\n",
    "        reward = get_reward(observation_, observation, info,visited, cell_visited)\n",
    "        score += reward\n",
    "\n",
    "        num_steps += 1\n",
    "        if np.array_equal(observation_[0], (9,9)):\n",
    "            manager.set_done(agent_id)\n",
    "            done = True\n",
    "        agent.store_transition(observation, action, reward, \n",
    "                                observation_, done)\n",
    "        agent.learn()\n",
    "        observation = observation_\n",
    "    scores.append(score)\n",
    "    eps_history.append(agent.epsilon)\n",
    "\n",
    "    avg_score = np.mean(scores[-100:])\n",
    "\n",
    "    print('episode ', i, 'score %.2f' % score,\n",
    "            'average score %.2f' % avg_score,\n",
    "            'epsilon %.2f' % agent.epsilon, 'num_steps' , num_steps)"
   ]
  },
  {
   "cell_type": "code",
   "execution_count": null,
   "metadata": {},
   "outputs": [],
   "source": [
    "T.save(agent.Q_eval.state_dict(), 'q_eval_maze.pth')"
   ]
  },
  {
   "cell_type": "code",
   "execution_count": null,
   "metadata": {},
   "outputs": [],
   "source": [
    "T.load(agent.Q_eval.state_dict(), 'q_eval_maze.pth')\n",
    "\n",
    "# infrence \n",
    "# env = gym.make('maze-sample-10x10-v0')\n",
    "# observation = env.reset()\n",
    "# done = False\n",
    "# while not done:\n",
    "#     action = agent.choose_action(observation)\n",
    "#     observation_, reward, done, info = env.step(action)\n",
    "#     observation = observation_\n",
    "\n",
    "\n",
    "# import matplotlib.pyplot as plt\n",
    "# x = [i+1 for i in range(n_games)]\n",
    "# filename = agent_id + '_maze.png'\n",
    "# fig = plt.figure()\n",
    "# plt.plot(x, eps_history, label='epsilon')\n",
    "# plt.plot(x, scores, label='score')\n",
    "# plt.xlabel('training steps')\n",
    "# plt.ylabel('score')\n",
    "# plt.legend()\n",
    "# plt.show()\n"
   ]
  },
  {
   "cell_type": "code",
   "execution_count": null,
   "metadata": {},
   "outputs": [
    {
     "name": "stdout",
     "output_type": "stream",
     "text": [
      "torch==1.13.1+cpu\n",
      "numpy==1.21.5\n",
      "json==2.0.9\n",
      "requests==2.27.1\n",
      "gym==0.26.2\n"
     ]
    }
   ],
   "source": [
    "print('\\n'.join(f'{m.__name__}=={m.__version__}' for m in globals().values() if getattr(m, '__version__', None)))"
   ]
  },
  {
   "cell_type": "markdown",
   "metadata": {},
   "source": [
    "## dependencies\n",
    "\n",
    "- torch==1.13.1+cpu\n",
    "- numpy==1.21.5\n",
    "- json==2.0.9\n",
    "- requests==2.27.1\n",
    "- gym==0.26.2"
   ]
  },
  {
   "cell_type": "markdown",
   "metadata": {},
   "source": [
    "# Kol El B3d kda maloo4 lazma /\\/?"
   ]
  },
  {
   "cell_type": "code",
   "execution_count": null,
   "metadata": {},
   "outputs": [],
   "source": []
  },
  {
   "cell_type": "code",
   "execution_count": null,
   "metadata": {},
   "outputs": [],
   "source": []
  },
  {
   "cell_type": "code",
   "execution_count": null,
   "metadata": {},
   "outputs": [],
   "source": []
  },
  {
   "cell_type": "code",
   "execution_count": null,
   "metadata": {},
   "outputs": [],
   "source": []
  },
  {
   "cell_type": "code",
   "execution_count": null,
   "metadata": {},
   "outputs": [],
   "source": []
  },
  {
   "cell_type": "code",
   "execution_count": null,
   "metadata": {},
   "outputs": [],
   "source": []
  },
  {
   "cell_type": "code",
   "execution_count": null,
   "metadata": {},
   "outputs": [],
   "source": []
  },
  {
   "cell_type": "code",
   "execution_count": null,
   "metadata": {},
   "outputs": [],
   "source": [
    "test =  [np.array((1,3)), [3,4,4,3], [[1,3], [2,4], [3,4], [4,4]]]"
   ]
  },
  {
   "cell_type": "code",
   "execution_count": null,
   "metadata": {},
   "outputs": [],
   "source": [
    "a = np.concatenate([[1,3], [2,4], [3,4], [4,4]])\n",
    "input_data = [np.array((1,3)), [3,4,4,3],a]\n",
    "output_vector = np.concatenate(input_data)\n",
    "\n",
    "print(output_vector)\n"
   ]
  },
  {
   "cell_type": "code",
   "execution_count": null,
   "metadata": {},
   "outputs": [],
   "source": [
    "a = np.array([1, 3, 3, 4, 4, 3,1,3, 2, 4, 3, 4, 4, 4])\n",
    "print(a)"
   ]
  },
  {
   "cell_type": "code",
   "execution_count": null,
   "metadata": {},
   "outputs": [],
   "source": [
    "np.concatenate([1 0],\n",
    "[9, 7, 10, 3],\n",
    "np.c[[1, 1], [0, 1], [1, 1], [1, 0]])"
   ]
  },
  {
   "cell_type": "code",
   "execution_count": null,
   "metadata": {},
   "outputs": [],
   "source": [
    "observation"
   ]
  },
  {
   "cell_type": "code",
   "execution_count": null,
   "metadata": {},
   "outputs": [],
   "source": [
    "print(observation[0])\n",
    "print(observation[1])\n",
    "print(observation[2])"
   ]
  },
  {
   "cell_type": "code",
   "execution_count": null,
   "metadata": {},
   "outputs": [],
   "source": [
    "np.concatenate([np.array([1, 0]), [8, 4, 10, 7], np.concatenate([[1, 1], [1, 1], [1, 1], [1, 1]])])"
   ]
  },
  {
   "cell_type": "code",
   "execution_count": null,
   "metadata": {},
   "outputs": [],
   "source": [
    "observation = np.concatenate([np.array([observation[0]]),np.array( observation[1]), observation[2]])\n",
    "observation\n"
   ]
  },
  {
   "cell_type": "code",
   "execution_count": null,
   "metadata": {},
   "outputs": [],
   "source": [
    "observation "
   ]
  },
  {
   "cell_type": "code",
   "execution_count": null,
   "metadata": {},
   "outputs": [],
   "source": [
    "print(observation[0].shape)\n",
    "print(np.array(observation[1]).shape)\n",
    "print(np.array(observation[2]).flatten().shape)\n"
   ]
  },
  {
   "cell_type": "code",
   "execution_count": null,
   "metadata": {},
   "outputs": [],
   "source": [
    "observation = np.concatenate([np.array([[observation[0][0], observation[0][1]]]), observation[1], observation[2]])\n",
    "observation"
   ]
  },
  {
   "cell_type": "code",
   "execution_count": null,
   "metadata": {},
   "outputs": [],
   "source": [
    "np.load(\"hackathon_sample.npy\")"
   ]
  }
 ],
 "metadata": {
  "kernelspec": {
   "display_name": "Python 3 (ipykernel)",
   "language": "python",
   "name": "python3"
  },
  "language_info": {
   "codemirror_mode": {
    "name": "ipython",
    "version": 3
   },
   "file_extension": ".py",
   "mimetype": "text/x-python",
   "name": "python",
   "nbconvert_exporter": "python",
   "pygments_lexer": "ipython3",
   "version": "3.10.4"
  }
 },
 "nbformat": 4,
 "nbformat_minor": 2
}
